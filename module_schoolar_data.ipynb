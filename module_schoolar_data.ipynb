{
  "nbformat": 4,
  "nbformat_minor": 0,
  "metadata": {
    "colab": {
      "name": "module_schoolar_data.ipynb",
      "provenance": [],
      "authorship_tag": "ABX9TyMasnxU/9hgn5U5B2Ep4CKP",
      "include_colab_link": true
    },
    "kernelspec": {
      "name": "python3",
      "display_name": "Python 3"
    }
  },
  "cells": [
    {
      "cell_type": "markdown",
      "metadata": {
        "id": "view-in-github",
        "colab_type": "text"
      },
      "source": [
        "<a href=\"https://colab.research.google.com/github/farhatizakaria/machineLearningSchoolarData/blob/master/module_schoolar_data.ipynb\" target=\"_parent\"><img src=\"https://colab.research.google.com/assets/colab-badge.svg\" alt=\"Open In Colab\"/></a>"
      ]
    },
    {
      "cell_type": "code",
      "metadata": {
        "id": "byqlgtxYl93t",
        "colab_type": "code",
        "colab": {}
      },
      "source": [
        "import matplotlib.pyplot as plt\n",
        "import numpy as np"
      ],
      "execution_count": 0,
      "outputs": []
    },
    {
      "cell_type": "code",
      "metadata": {
        "id": "gt6724SrmHKI",
        "colab_type": "code",
        "colab": {
          "base_uri": "https://localhost:8080/",
          "height": 265
        },
        "outputId": "f1b94b7a-e685-46f3-bab5-fafb578a9f3f"
      },
      "source": [
        "# My data\n",
        "X = np.array([1, 2, 3, 4, 5, 6, 7, 8, 9, 10, 11, 12])\n",
        "Y = np.array([8, 6, 6, 6, 6, 5, 8, 9, 12, 16, 17, 17])\n",
        "\n",
        "# The composent of the linear equation\n",
        "slope = 1.052447552\n",
        "yIntercept = 2.742424242\n",
        "errorMean = 5.210275835\n",
        "\n",
        "# the equation\n",
        "yHat = slope * X + yIntercept  # + errorMean\n",
        "\n",
        "plt.scatter(X,Y,c=\"r\")\n",
        "plt.plot(yHat,c=\"g\")\n",
        "plt.show()"
      ],
      "execution_count": 11,
      "outputs": [
        {
          "output_type": "display_data",
          "data": {
            "image/png": "[encoded data removed]",
            "text/plain": [
              "<Figure size 432x288 with 1 Axes>"
            ]
          },
          "metadata": {
            "tags": []
          }
        }
      ]
    }
  ]
}